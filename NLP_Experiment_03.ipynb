{
  "cells": [
    {
      "cell_type": "markdown",
      "id": "serial-proceeding",
      "metadata": {
        "id": "serial-proceeding"
      },
      "source": [
        "NLP Experiment 03 ~ 69_Pratham Borghare"
      ]
    },
    {
      "cell_type": "markdown",
      "id": "exposed-trinity",
      "metadata": {
        "id": "exposed-trinity"
      },
      "source": [
        "### Library required"
      ]
    },
    {
      "cell_type": "code",
      "execution_count": null,
      "id": "explicit-leather",
      "metadata": {
        "colab": {
          "base_uri": "https://localhost:8080/"
        },
        "id": "explicit-leather",
        "outputId": "e0ea963b-babc-4fcb-aae9-9eb0e8399f94"
      },
      "outputs": [
        {
          "output_type": "stream",
          "name": "stdout",
          "text": [
            "Requirement already satisfied: nltk in /usr/local/lib/python3.10/dist-packages (3.8.1)\n",
            "Requirement already satisfied: click in /usr/local/lib/python3.10/dist-packages (from nltk) (8.1.7)\n",
            "Requirement already satisfied: joblib in /usr/local/lib/python3.10/dist-packages (from nltk) (1.3.2)\n",
            "Requirement already satisfied: regex>=2021.8.3 in /usr/local/lib/python3.10/dist-packages (from nltk) (2023.6.3)\n",
            "Requirement already satisfied: tqdm in /usr/local/lib/python3.10/dist-packages (from nltk) (4.66.1)\n"
          ]
        }
      ],
      "source": [
        "!pip install nltk"
      ]
    },
    {
      "cell_type": "markdown",
      "id": "parliamentary-transcript",
      "metadata": {
        "id": "parliamentary-transcript"
      },
      "source": [
        "### Text"
      ]
    },
    {
      "cell_type": "code",
      "execution_count": null,
      "id": "centered-aurora",
      "metadata": {
        "id": "centered-aurora"
      },
      "outputs": [],
      "source": [
        "text = 'Named entity recognition (NER) is a form of natural language processing (NLP) that involves extracting and identifying essential information from text.'"
      ]
    },
    {
      "cell_type": "code",
      "execution_count": null,
      "id": "configured-brass",
      "metadata": {
        "colab": {
          "base_uri": "https://localhost:8080/",
          "height": 35
        },
        "id": "configured-brass",
        "outputId": "3beed5d5-cd46-42e6-d305-3c90dad9a101"
      },
      "outputs": [
        {
          "output_type": "execute_result",
          "data": {
            "text/plain": [
              "'Named entity recognition (NER) is a form of natural language processing (NLP) that involves extracting and identifying essential information from text.'"
            ],
            "application/vnd.google.colaboratory.intrinsic+json": {
              "type": "string"
            }
          },
          "metadata": {},
          "execution_count": 3
        }
      ],
      "source": [
        "text"
      ]
    },
    {
      "cell_type": "markdown",
      "id": "tamil-technical",
      "metadata": {
        "id": "tamil-technical"
      },
      "source": [
        "### Stopwords"
      ]
    },
    {
      "cell_type": "code",
      "execution_count": null,
      "id": "damaged-digit",
      "metadata": {
        "colab": {
          "base_uri": "https://localhost:8080/"
        },
        "id": "damaged-digit",
        "outputId": "4a4cf70e-a28c-45fc-cfec-29a0f6a03d77"
      },
      "outputs": [
        {
          "output_type": "stream",
          "name": "stderr",
          "text": [
            "[nltk_data] Downloading package stopwords to /root/nltk_data...\n",
            "[nltk_data]   Unzipping corpora/stopwords.zip.\n"
          ]
        }
      ],
      "source": [
        "import nltk\n",
        "nltk.download('stopwords')\n",
        "from nltk.corpus import stopwords"
      ]
    },
    {
      "cell_type": "code",
      "execution_count": null,
      "id": "through-symposium",
      "metadata": {
        "id": "through-symposium"
      },
      "outputs": [],
      "source": [
        "stop_words = stopwords.words('english')"
      ]
    },
    {
      "cell_type": "code",
      "execution_count": null,
      "id": "authentic-answer",
      "metadata": {
        "colab": {
          "base_uri": "https://localhost:8080/"
        },
        "id": "authentic-answer",
        "outputId": "cf5622a1-dedf-47a3-ef0b-70c034b979d6"
      },
      "outputs": [
        {
          "output_type": "stream",
          "name": "stderr",
          "text": [
            "[nltk_data] Downloading package punkt to /root/nltk_data...\n",
            "[nltk_data]   Unzipping tokenizers/punkt.zip.\n"
          ]
        }
      ],
      "source": [
        "from nltk.tokenize import word_tokenize\n",
        "nltk.download('punkt')\n",
        "words = word_tokenize(text)"
      ]
    },
    {
      "cell_type": "markdown",
      "id": "functional-checkout",
      "metadata": {
        "id": "functional-checkout"
      },
      "source": [
        "#### Applying stop words"
      ]
    },
    {
      "cell_type": "code",
      "execution_count": null,
      "id": "piano-graph",
      "metadata": {
        "id": "piano-graph"
      },
      "outputs": [],
      "source": [
        "holder = list()\n",
        "for w in words:\n",
        "    if w not in set(stop_words):\n",
        "        holder.append(w)"
      ]
    },
    {
      "cell_type": "code",
      "execution_count": null,
      "id": "accompanied-queens",
      "metadata": {
        "id": "accompanied-queens",
        "outputId": "9eeffc73-361e-4ad5-fe14-bb4b884cd851"
      },
      "outputs": [
        {
          "data": {
            "text/plain": [
              "['TON',\n",
              " '618',\n",
              " 'hyperluminous',\n",
              " ',',\n",
              " 'broad-absorption-line',\n",
              " ',',\n",
              " 'radio-loud',\n",
              " 'quasar',\n",
              " 'Lyman-alpha',\n",
              " 'blob',\n",
              " 'located',\n",
              " 'near',\n",
              " 'border',\n",
              " 'constellations',\n",
              " 'Canes',\n",
              " 'Venatici',\n",
              " 'Coma',\n",
              " 'Berenices',\n",
              " ',',\n",
              " 'projected',\n",
              " 'comoving',\n",
              " 'distance',\n",
              " 'approximately',\n",
              " '18.2',\n",
              " 'billion',\n",
              " 'light-years',\n",
              " 'Earth',\n",
              " '.']"
            ]
          },
          "execution_count": 8,
          "metadata": {},
          "output_type": "execute_result"
        }
      ],
      "source": [
        "holder"
      ]
    },
    {
      "cell_type": "markdown",
      "id": "digital-henry",
      "metadata": {
        "id": "digital-henry"
      },
      "source": [
        "#### List Comprehension for stop words"
      ]
    },
    {
      "cell_type": "code",
      "execution_count": null,
      "id": "environmental-cartridge",
      "metadata": {
        "colab": {
          "base_uri": "https://localhost:8080/"
        },
        "id": "environmental-cartridge",
        "outputId": "5a96274a-ddac-42ca-c461-99d0a2067760"
      },
      "outputs": [
        {
          "output_type": "stream",
          "name": "stdout",
          "text": [
            "['Named', 'entity', 'recognition', '(', 'NER', ')', 'form', 'natural', 'language', 'processing', '(', 'NLP', ')', 'involves', 'extracting', 'identifying', 'essential', 'information', 'text', '.']\n"
          ]
        }
      ],
      "source": [
        "holder = [w for w in words if w not in set(stop_words)]\n",
        "print(holder)"
      ]
    },
    {
      "cell_type": "markdown",
      "id": "forty-worth",
      "metadata": {
        "id": "forty-worth"
      },
      "source": [
        "### Stemming"
      ]
    },
    {
      "cell_type": "code",
      "execution_count": null,
      "id": "related-costs",
      "metadata": {
        "id": "related-costs"
      },
      "outputs": [],
      "source": [
        "from nltk.stem import PorterStemmer, SnowballStemmer, LancasterStemmer"
      ]
    },
    {
      "cell_type": "code",
      "execution_count": null,
      "id": "unsigned-mobile",
      "metadata": {
        "id": "unsigned-mobile"
      },
      "outputs": [],
      "source": [
        "porter = PorterStemmer()\n",
        "snow = SnowballStemmer(language = 'english')\n",
        "lancaster = LancasterStemmer()"
      ]
    },
    {
      "cell_type": "code",
      "execution_count": null,
      "id": "ready-inside",
      "metadata": {
        "id": "ready-inside"
      },
      "outputs": [],
      "source": [
        "words = ['play', 'plays', 'played', 'playing', 'player']"
      ]
    },
    {
      "cell_type": "markdown",
      "id": "prostate-commitment",
      "metadata": {
        "id": "prostate-commitment"
      },
      "source": [
        "#### Porter Stemmer"
      ]
    },
    {
      "cell_type": "code",
      "execution_count": null,
      "id": "involved-cherry",
      "metadata": {
        "id": "involved-cherry"
      },
      "outputs": [],
      "source": [
        "porter_stemmed = list()\n",
        "for w in words:\n",
        "    stemmed_words = porter.stem(w)\n",
        "    porter_stemmed.append(stemmed_words)"
      ]
    },
    {
      "cell_type": "code",
      "execution_count": null,
      "id": "narrative-auditor",
      "metadata": {
        "colab": {
          "base_uri": "https://localhost:8080/"
        },
        "id": "narrative-auditor",
        "outputId": "3fcb0206-af17-411a-c598-a8f22e592484"
      },
      "outputs": [
        {
          "output_type": "execute_result",
          "data": {
            "text/plain": [
              "['play', 'play', 'play', 'play', 'player']"
            ]
          },
          "metadata": {},
          "execution_count": 22
        }
      ],
      "source": [
        "porter_stemmed"
      ]
    },
    {
      "cell_type": "markdown",
      "id": "mobile-giant",
      "metadata": {
        "id": "mobile-giant"
      },
      "source": [
        "#### Porter Stemmer List Comprehension"
      ]
    },
    {
      "cell_type": "code",
      "execution_count": null,
      "id": "juvenile-assets",
      "metadata": {
        "colab": {
          "base_uri": "https://localhost:8080/"
        },
        "id": "juvenile-assets",
        "outputId": "1220c617-f86f-4942-de9b-a37eea496ed5"
      },
      "outputs": [
        {
          "output_type": "stream",
          "name": "stdout",
          "text": [
            "['play', 'play', 'play', 'play', 'player']\n"
          ]
        }
      ],
      "source": [
        "porter_stemmed = [porter.stem(x) for x in words]\n",
        "print (porter_stemmed)"
      ]
    },
    {
      "cell_type": "markdown",
      "id": "japanese-piece",
      "metadata": {
        "id": "japanese-piece"
      },
      "source": [
        "#### Snowball Stemmer"
      ]
    },
    {
      "cell_type": "code",
      "execution_count": null,
      "id": "skilled-coordinate",
      "metadata": {
        "id": "skilled-coordinate"
      },
      "outputs": [],
      "source": [
        "snow_stemmed = list()\n",
        "for w in words:\n",
        "    stemmed_words = snow.stem(w)\n",
        "    snow_stemmed.append(stemmed_words)"
      ]
    },
    {
      "cell_type": "code",
      "execution_count": null,
      "id": "compressed-constitution",
      "metadata": {
        "colab": {
          "base_uri": "https://localhost:8080/"
        },
        "id": "compressed-constitution",
        "outputId": "2645ace5-8554-436c-8352-6d06df4b0d71"
      },
      "outputs": [
        {
          "output_type": "execute_result",
          "data": {
            "text/plain": [
              "['play', 'play', 'play', 'play', 'player']"
            ]
          },
          "metadata": {},
          "execution_count": 25
        }
      ],
      "source": [
        "snow_stemmed"
      ]
    },
    {
      "cell_type": "markdown",
      "id": "handled-preparation",
      "metadata": {
        "id": "handled-preparation"
      },
      "source": [
        "#### Snowball Stemmer List Comprehension"
      ]
    },
    {
      "cell_type": "code",
      "execution_count": null,
      "id": "aboriginal-checklist",
      "metadata": {
        "colab": {
          "base_uri": "https://localhost:8080/"
        },
        "id": "aboriginal-checklist",
        "outputId": "5549284c-f466-407a-d7b1-162683db6ffe"
      },
      "outputs": [
        {
          "output_type": "stream",
          "name": "stdout",
          "text": [
            "['play', 'play', 'play', 'play', 'player']\n"
          ]
        }
      ],
      "source": [
        "snow_stemmed = [snow.stem(x) for x in words]\n",
        "print (snow_stemmed)"
      ]
    },
    {
      "cell_type": "markdown",
      "id": "narrative-graduation",
      "metadata": {
        "id": "narrative-graduation"
      },
      "source": [
        "#### Lancaster Stemmer"
      ]
    },
    {
      "cell_type": "code",
      "execution_count": null,
      "id": "gorgeous-omega",
      "metadata": {
        "id": "gorgeous-omega"
      },
      "outputs": [],
      "source": [
        "lancaster_stemmed = list()\n",
        "for w in words:\n",
        "    stemmed_words = lancaster.stem(w)\n",
        "    lancaster_stemmed.append(stemmed_words)"
      ]
    },
    {
      "cell_type": "code",
      "execution_count": null,
      "id": "funded-draft",
      "metadata": {
        "colab": {
          "base_uri": "https://localhost:8080/"
        },
        "id": "funded-draft",
        "outputId": "4d5b4d88-5d63-4b47-8ba2-ba4822f72f47"
      },
      "outputs": [
        {
          "output_type": "execute_result",
          "data": {
            "text/plain": [
              "['play', 'play', 'play', 'play', 'play']"
            ]
          },
          "metadata": {},
          "execution_count": 28
        }
      ],
      "source": [
        "lancaster_stemmed"
      ]
    },
    {
      "cell_type": "markdown",
      "id": "stupid-jordan",
      "metadata": {
        "id": "stupid-jordan"
      },
      "source": [
        "#### Lancaster Stemmer List Comprehension"
      ]
    },
    {
      "cell_type": "code",
      "execution_count": null,
      "id": "seven-world",
      "metadata": {
        "colab": {
          "base_uri": "https://localhost:8080/"
        },
        "id": "seven-world",
        "outputId": "18cf8249-af1e-4c19-fc64-63b4cd43aa32"
      },
      "outputs": [
        {
          "output_type": "stream",
          "name": "stdout",
          "text": [
            "['play', 'play', 'play', 'play', 'play']\n"
          ]
        }
      ],
      "source": [
        "lancaster_stemmed = [lancaster.stem(x) for x in words]\n",
        "print (lancaster_stemmed)"
      ]
    },
    {
      "cell_type": "markdown",
      "id": "wanted-wallace",
      "metadata": {
        "id": "wanted-wallace"
      },
      "source": [
        "### Lemmatization : This has a more expansive vocabulary than Stemming"
      ]
    },
    {
      "cell_type": "code",
      "execution_count": null,
      "id": "coated-sport",
      "metadata": {
        "colab": {
          "base_uri": "https://localhost:8080/"
        },
        "id": "coated-sport",
        "outputId": "84e1aa1b-9037-474a-92f6-2b2a211d0c37"
      },
      "outputs": [
        {
          "output_type": "stream",
          "name": "stderr",
          "text": [
            "[nltk_data] Downloading package wordnet to /root/nltk_data...\n"
          ]
        }
      ],
      "source": [
        "from nltk.stem import WordNetLemmatizer\n",
        "nltk.download('wordnet')\n",
        "wordnet = WordNetLemmatizer()"
      ]
    },
    {
      "cell_type": "code",
      "execution_count": null,
      "id": "impressed-switzerland",
      "metadata": {
        "id": "impressed-switzerland"
      },
      "outputs": [],
      "source": [
        "lemmatized = [wordnet.lemmatize(x) for x in words]"
      ]
    },
    {
      "cell_type": "code",
      "execution_count": null,
      "id": "removed-company",
      "metadata": {
        "colab": {
          "base_uri": "https://localhost:8080/"
        },
        "id": "removed-company",
        "outputId": "b6774939-4ace-48d6-9f51-18944d30164d"
      },
      "outputs": [
        {
          "output_type": "execute_result",
          "data": {
            "text/plain": [
              "['play', 'play', 'played', 'playing', 'player']"
            ]
          },
          "metadata": {},
          "execution_count": 34
        }
      ],
      "source": [
        "lemmatized"
      ]
    }
  ],
  "metadata": {
    "kernelspec": {
      "display_name": "Python 3",
      "language": "python",
      "name": "python3"
    },
    "language_info": {
      "codemirror_mode": {
        "name": "ipython",
        "version": 3
      },
      "file_extension": ".py",
      "mimetype": "text/x-python",
      "name": "python",
      "nbconvert_exporter": "python",
      "pygments_lexer": "ipython3",
      "version": "3.7.0"
    },
    "colab": {
      "provenance": []
    }
  },
  "nbformat": 4,
  "nbformat_minor": 5
}